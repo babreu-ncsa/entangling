{
 "cells": [
  {
   "cell_type": "code",
   "execution_count": 36,
   "id": "c3454467-f595-4a04-8171-914b51e50bfe",
   "metadata": {
    "scrolled": true
   },
   "outputs": [
    {
     "name": "stdout",
     "output_type": "stream",
     "text": [
      "Requirement already satisfied: anyio==3.7.0 in /Users/babreu/opt/anaconda3/envs/entangling/lib/python3.11/site-packages (from -r ../env/requirements.txt (line 1)) (3.7.0)\n",
      "Requirement already satisfied: appnope==0.1.3 in /Users/babreu/opt/anaconda3/envs/entangling/lib/python3.11/site-packages (from -r ../env/requirements.txt (line 2)) (0.1.3)\n",
      "Requirement already satisfied: argon2-cffi==21.3.0 in /Users/babreu/opt/anaconda3/envs/entangling/lib/python3.11/site-packages (from -r ../env/requirements.txt (line 3)) (21.3.0)\n",
      "Requirement already satisfied: argon2-cffi-bindings==21.2.0 in /Users/babreu/opt/anaconda3/envs/entangling/lib/python3.11/site-packages (from -r ../env/requirements.txt (line 4)) (21.2.0)\n",
      "Requirement already satisfied: arrow==1.2.3 in /Users/babreu/opt/anaconda3/envs/entangling/lib/python3.11/site-packages (from -r ../env/requirements.txt (line 5)) (1.2.3)\n",
      "Requirement already satisfied: asttokens==2.2.1 in /Users/babreu/opt/anaconda3/envs/entangling/lib/python3.11/site-packages (from -r ../env/requirements.txt (line 6)) (2.2.1)\n",
      "Requirement already satisfied: async-lru==2.0.2 in /Users/babreu/opt/anaconda3/envs/entangling/lib/python3.11/site-packages (from -r ../env/requirements.txt (line 7)) (2.0.2)\n",
      "Requirement already satisfied: attrs==23.1.0 in /Users/babreu/opt/anaconda3/envs/entangling/lib/python3.11/site-packages (from -r ../env/requirements.txt (line 8)) (23.1.0)\n",
      "Requirement already satisfied: Babel==2.12.1 in /Users/babreu/opt/anaconda3/envs/entangling/lib/python3.11/site-packages (from -r ../env/requirements.txt (line 9)) (2.12.1)\n",
      "Requirement already satisfied: backcall==0.2.0 in /Users/babreu/opt/anaconda3/envs/entangling/lib/python3.11/site-packages (from -r ../env/requirements.txt (line 10)) (0.2.0)\n",
      "Requirement already satisfied: beautifulsoup4==4.12.2 in /Users/babreu/opt/anaconda3/envs/entangling/lib/python3.11/site-packages (from -r ../env/requirements.txt (line 11)) (4.12.2)\n",
      "Requirement already satisfied: bleach==6.0.0 in /Users/babreu/opt/anaconda3/envs/entangling/lib/python3.11/site-packages (from -r ../env/requirements.txt (line 12)) (6.0.0)\n",
      "Requirement already satisfied: certifi==2023.5.7 in /Users/babreu/opt/anaconda3/envs/entangling/lib/python3.11/site-packages (from -r ../env/requirements.txt (line 13)) (2023.5.7)\n",
      "Requirement already satisfied: cffi==1.15.1 in /Users/babreu/opt/anaconda3/envs/entangling/lib/python3.11/site-packages (from -r ../env/requirements.txt (line 14)) (1.15.1)\n",
      "Requirement already satisfied: charset-normalizer==3.1.0 in /Users/babreu/opt/anaconda3/envs/entangling/lib/python3.11/site-packages (from -r ../env/requirements.txt (line 15)) (3.1.0)\n",
      "Requirement already satisfied: comm==0.1.3 in /Users/babreu/opt/anaconda3/envs/entangling/lib/python3.11/site-packages (from -r ../env/requirements.txt (line 16)) (0.1.3)\n",
      "Requirement already satisfied: contourpy==1.1.0 in /Users/babreu/opt/anaconda3/envs/entangling/lib/python3.11/site-packages (from -r ../env/requirements.txt (line 17)) (1.1.0)\n",
      "Requirement already satisfied: cryptography==41.0.1 in /Users/babreu/opt/anaconda3/envs/entangling/lib/python3.11/site-packages (from -r ../env/requirements.txt (line 18)) (41.0.1)\n",
      "Requirement already satisfied: cycler==0.11.0 in /Users/babreu/opt/anaconda3/envs/entangling/lib/python3.11/site-packages (from -r ../env/requirements.txt (line 19)) (0.11.0)\n",
      "Requirement already satisfied: debugpy==1.6.7 in /Users/babreu/opt/anaconda3/envs/entangling/lib/python3.11/site-packages (from -r ../env/requirements.txt (line 20)) (1.6.7)\n",
      "Requirement already satisfied: decorator==5.1.1 in /Users/babreu/opt/anaconda3/envs/entangling/lib/python3.11/site-packages (from -r ../env/requirements.txt (line 21)) (5.1.1)\n",
      "Requirement already satisfied: defusedxml==0.7.1 in /Users/babreu/opt/anaconda3/envs/entangling/lib/python3.11/site-packages (from -r ../env/requirements.txt (line 22)) (0.7.1)\n",
      "Requirement already satisfied: dill==0.3.6 in /Users/babreu/opt/anaconda3/envs/entangling/lib/python3.11/site-packages (from -r ../env/requirements.txt (line 23)) (0.3.6)\n",
      "Requirement already satisfied: executing==1.2.0 in /Users/babreu/opt/anaconda3/envs/entangling/lib/python3.11/site-packages (from -r ../env/requirements.txt (line 24)) (1.2.0)\n",
      "Requirement already satisfied: fastjsonschema==2.17.1 in /Users/babreu/opt/anaconda3/envs/entangling/lib/python3.11/site-packages (from -r ../env/requirements.txt (line 25)) (2.17.1)\n",
      "Requirement already satisfied: fonttools==4.40.0 in /Users/babreu/opt/anaconda3/envs/entangling/lib/python3.11/site-packages (from -r ../env/requirements.txt (line 26)) (4.40.0)\n",
      "Requirement already satisfied: fqdn==1.5.1 in /Users/babreu/opt/anaconda3/envs/entangling/lib/python3.11/site-packages (from -r ../env/requirements.txt (line 27)) (1.5.1)\n",
      "Requirement already satisfied: idna==3.4 in /Users/babreu/opt/anaconda3/envs/entangling/lib/python3.11/site-packages (from -r ../env/requirements.txt (line 28)) (3.4)\n",
      "Requirement already satisfied: ipykernel==6.23.2 in /Users/babreu/opt/anaconda3/envs/entangling/lib/python3.11/site-packages (from -r ../env/requirements.txt (line 29)) (6.23.2)\n",
      "Requirement already satisfied: ipython==8.14.0 in /Users/babreu/opt/anaconda3/envs/entangling/lib/python3.11/site-packages (from -r ../env/requirements.txt (line 30)) (8.14.0)\n",
      "Requirement already satisfied: ipywidgets==8.0.6 in /Users/babreu/opt/anaconda3/envs/entangling/lib/python3.11/site-packages (from -r ../env/requirements.txt (line 31)) (8.0.6)\n",
      "Requirement already satisfied: isoduration==20.11.0 in /Users/babreu/opt/anaconda3/envs/entangling/lib/python3.11/site-packages (from -r ../env/requirements.txt (line 32)) (20.11.0)\n",
      "Requirement already satisfied: jedi==0.18.2 in /Users/babreu/opt/anaconda3/envs/entangling/lib/python3.11/site-packages (from -r ../env/requirements.txt (line 33)) (0.18.2)\n",
      "Requirement already satisfied: Jinja2==3.1.2 in /Users/babreu/opt/anaconda3/envs/entangling/lib/python3.11/site-packages (from -r ../env/requirements.txt (line 34)) (3.1.2)\n",
      "Requirement already satisfied: json5==0.9.14 in /Users/babreu/opt/anaconda3/envs/entangling/lib/python3.11/site-packages (from -r ../env/requirements.txt (line 35)) (0.9.14)\n",
      "Requirement already satisfied: jsonpointer==2.4 in /Users/babreu/opt/anaconda3/envs/entangling/lib/python3.11/site-packages (from -r ../env/requirements.txt (line 36)) (2.4)\n",
      "Requirement already satisfied: jsonschema==4.17.3 in /Users/babreu/opt/anaconda3/envs/entangling/lib/python3.11/site-packages (from -r ../env/requirements.txt (line 37)) (4.17.3)\n",
      "Requirement already satisfied: jupyter-events==0.6.3 in /Users/babreu/opt/anaconda3/envs/entangling/lib/python3.11/site-packages (from -r ../env/requirements.txt (line 38)) (0.6.3)\n",
      "Requirement already satisfied: jupyter-lsp==2.2.0 in /Users/babreu/opt/anaconda3/envs/entangling/lib/python3.11/site-packages (from -r ../env/requirements.txt (line 39)) (2.2.0)\n",
      "Requirement already satisfied: jupyter_client==8.2.0 in /Users/babreu/opt/anaconda3/envs/entangling/lib/python3.11/site-packages (from -r ../env/requirements.txt (line 40)) (8.2.0)\n",
      "Requirement already satisfied: jupyter_core==5.3.1 in /Users/babreu/opt/anaconda3/envs/entangling/lib/python3.11/site-packages (from -r ../env/requirements.txt (line 41)) (5.3.1)\n",
      "Requirement already satisfied: jupyter_server==2.6.0 in /Users/babreu/opt/anaconda3/envs/entangling/lib/python3.11/site-packages (from -r ../env/requirements.txt (line 42)) (2.6.0)\n",
      "Requirement already satisfied: jupyter_server_terminals==0.4.4 in /Users/babreu/opt/anaconda3/envs/entangling/lib/python3.11/site-packages (from -r ../env/requirements.txt (line 43)) (0.4.4)\n",
      "Requirement already satisfied: jupyterlab==4.0.2 in /Users/babreu/opt/anaconda3/envs/entangling/lib/python3.11/site-packages (from -r ../env/requirements.txt (line 44)) (4.0.2)\n",
      "Requirement already satisfied: jupyterlab-pygments==0.2.2 in /Users/babreu/opt/anaconda3/envs/entangling/lib/python3.11/site-packages (from -r ../env/requirements.txt (line 45)) (0.2.2)\n",
      "Requirement already satisfied: jupyterlab-widgets==3.0.7 in /Users/babreu/opt/anaconda3/envs/entangling/lib/python3.11/site-packages (from -r ../env/requirements.txt (line 46)) (3.0.7)\n",
      "Requirement already satisfied: jupyterlab_server==2.23.0 in /Users/babreu/opt/anaconda3/envs/entangling/lib/python3.11/site-packages (from -r ../env/requirements.txt (line 47)) (2.23.0)\n",
      "Requirement already satisfied: kiwisolver==1.4.4 in /Users/babreu/opt/anaconda3/envs/entangling/lib/python3.11/site-packages (from -r ../env/requirements.txt (line 48)) (1.4.4)\n",
      "Requirement already satisfied: MarkupSafe==2.1.3 in /Users/babreu/opt/anaconda3/envs/entangling/lib/python3.11/site-packages (from -r ../env/requirements.txt (line 49)) (2.1.3)\n",
      "Requirement already satisfied: matplotlib==3.7.1 in /Users/babreu/opt/anaconda3/envs/entangling/lib/python3.11/site-packages (from -r ../env/requirements.txt (line 50)) (3.7.1)\n",
      "Requirement already satisfied: matplotlib-inline==0.1.6 in /Users/babreu/opt/anaconda3/envs/entangling/lib/python3.11/site-packages (from -r ../env/requirements.txt (line 51)) (0.1.6)\n",
      "Requirement already satisfied: mistune==3.0.1 in /Users/babreu/opt/anaconda3/envs/entangling/lib/python3.11/site-packages (from -r ../env/requirements.txt (line 52)) (3.0.1)\n",
      "Requirement already satisfied: mpmath==1.3.0 in /Users/babreu/opt/anaconda3/envs/entangling/lib/python3.11/site-packages (from -r ../env/requirements.txt (line 53)) (1.3.0)\n",
      "Requirement already satisfied: nbclient==0.8.0 in /Users/babreu/opt/anaconda3/envs/entangling/lib/python3.11/site-packages (from -r ../env/requirements.txt (line 54)) (0.8.0)\n",
      "Requirement already satisfied: nbconvert==7.6.0 in /Users/babreu/opt/anaconda3/envs/entangling/lib/python3.11/site-packages (from -r ../env/requirements.txt (line 55)) (7.6.0)\n",
      "Requirement already satisfied: nbformat==5.9.0 in /Users/babreu/opt/anaconda3/envs/entangling/lib/python3.11/site-packages (from -r ../env/requirements.txt (line 56)) (5.9.0)\n",
      "Requirement already satisfied: nest-asyncio==1.5.6 in /Users/babreu/opt/anaconda3/envs/entangling/lib/python3.11/site-packages (from -r ../env/requirements.txt (line 57)) (1.5.6)\n",
      "Requirement already satisfied: networkx==3.1 in /Users/babreu/opt/anaconda3/envs/entangling/lib/python3.11/site-packages (from -r ../env/requirements.txt (line 58)) (3.1)\n",
      "Requirement already satisfied: notebook_shim==0.2.3 in /Users/babreu/opt/anaconda3/envs/entangling/lib/python3.11/site-packages (from -r ../env/requirements.txt (line 59)) (0.2.3)\n",
      "Requirement already satisfied: ntlm-auth==1.5.0 in /Users/babreu/opt/anaconda3/envs/entangling/lib/python3.11/site-packages (from -r ../env/requirements.txt (line 60)) (1.5.0)\n",
      "Requirement already satisfied: numpy==1.23.5 in /Users/babreu/opt/anaconda3/envs/entangling/lib/python3.11/site-packages (from -r ../env/requirements.txt (line 61)) (1.23.5)\n",
      "Requirement already satisfied: overrides==7.3.1 in /Users/babreu/opt/anaconda3/envs/entangling/lib/python3.11/site-packages (from -r ../env/requirements.txt (line 62)) (7.3.1)\n",
      "Requirement already satisfied: packaging==23.1 in /Users/babreu/opt/anaconda3/envs/entangling/lib/python3.11/site-packages (from -r ../env/requirements.txt (line 63)) (23.1)\n",
      "Requirement already satisfied: pandas==2.0.2 in /Users/babreu/opt/anaconda3/envs/entangling/lib/python3.11/site-packages (from -r ../env/requirements.txt (line 64)) (2.0.2)\n",
      "Requirement already satisfied: pandocfilters==1.5.0 in /Users/babreu/opt/anaconda3/envs/entangling/lib/python3.11/site-packages (from -r ../env/requirements.txt (line 65)) (1.5.0)\n",
      "Requirement already satisfied: parso==0.8.3 in /Users/babreu/opt/anaconda3/envs/entangling/lib/python3.11/site-packages (from -r ../env/requirements.txt (line 66)) (0.8.3)\n",
      "Requirement already satisfied: pbr==5.11.1 in /Users/babreu/opt/anaconda3/envs/entangling/lib/python3.11/site-packages (from -r ../env/requirements.txt (line 67)) (5.11.1)\n",
      "Requirement already satisfied: pexpect==4.8.0 in /Users/babreu/opt/anaconda3/envs/entangling/lib/python3.11/site-packages (from -r ../env/requirements.txt (line 68)) (4.8.0)\n",
      "Requirement already satisfied: pickleshare==0.7.5 in /Users/babreu/opt/anaconda3/envs/entangling/lib/python3.11/site-packages (from -r ../env/requirements.txt (line 69)) (0.7.5)\n",
      "Requirement already satisfied: Pillow==9.5.0 in /Users/babreu/opt/anaconda3/envs/entangling/lib/python3.11/site-packages (from -r ../env/requirements.txt (line 70)) (9.5.0)\n",
      "Requirement already satisfied: platformdirs==3.7.0 in /Users/babreu/opt/anaconda3/envs/entangling/lib/python3.11/site-packages (from -r ../env/requirements.txt (line 71)) (3.7.0)\n",
      "Requirement already satisfied: ply==3.11 in /Users/babreu/opt/anaconda3/envs/entangling/lib/python3.11/site-packages (from -r ../env/requirements.txt (line 72)) (3.11)\n",
      "Requirement already satisfied: prometheus-client==0.17.0 in /Users/babreu/opt/anaconda3/envs/entangling/lib/python3.11/site-packages (from -r ../env/requirements.txt (line 73)) (0.17.0)\n",
      "Requirement already satisfied: prompt-toolkit==3.0.38 in /Users/babreu/opt/anaconda3/envs/entangling/lib/python3.11/site-packages (from -r ../env/requirements.txt (line 74)) (3.0.38)\n",
      "Requirement already satisfied: psutil==5.9.5 in /Users/babreu/opt/anaconda3/envs/entangling/lib/python3.11/site-packages (from -r ../env/requirements.txt (line 75)) (5.9.5)\n",
      "Requirement already satisfied: ptyprocess==0.7.0 in /Users/babreu/opt/anaconda3/envs/entangling/lib/python3.11/site-packages (from -r ../env/requirements.txt (line 76)) (0.7.0)\n",
      "Requirement already satisfied: pure-eval==0.2.2 in /Users/babreu/opt/anaconda3/envs/entangling/lib/python3.11/site-packages (from -r ../env/requirements.txt (line 77)) (0.2.2)\n",
      "Requirement already satisfied: pycparser==2.21 in /Users/babreu/opt/anaconda3/envs/entangling/lib/python3.11/site-packages (from -r ../env/requirements.txt (line 78)) (2.21)\n",
      "Requirement already satisfied: pydot==1.4.2 in /Users/babreu/opt/anaconda3/envs/entangling/lib/python3.11/site-packages (from -r ../env/requirements.txt (line 79)) (1.4.2)\n",
      "Requirement already satisfied: Pygments==2.15.1 in /Users/babreu/opt/anaconda3/envs/entangling/lib/python3.11/site-packages (from -r ../env/requirements.txt (line 80)) (2.15.1)\n",
      "Requirement already satisfied: pylatexenc==2.10 in /Users/babreu/opt/anaconda3/envs/entangling/lib/python3.11/site-packages (from -r ../env/requirements.txt (line 81)) (2.10)\n",
      "Requirement already satisfied: pyparsing==3.1.0 in /Users/babreu/opt/anaconda3/envs/entangling/lib/python3.11/site-packages (from -r ../env/requirements.txt (line 82)) (3.1.0)\n",
      "Requirement already satisfied: pyrsistent==0.19.3 in /Users/babreu/opt/anaconda3/envs/entangling/lib/python3.11/site-packages (from -r ../env/requirements.txt (line 83)) (0.19.3)\n",
      "Requirement already satisfied: python-dateutil==2.8.2 in /Users/babreu/opt/anaconda3/envs/entangling/lib/python3.11/site-packages (from -r ../env/requirements.txt (line 84)) (2.8.2)\n",
      "Requirement already satisfied: python-json-logger==2.0.7 in /Users/babreu/opt/anaconda3/envs/entangling/lib/python3.11/site-packages (from -r ../env/requirements.txt (line 85)) (2.0.7)\n",
      "Requirement already satisfied: pytz==2023.3 in /Users/babreu/opt/anaconda3/envs/entangling/lib/python3.11/site-packages (from -r ../env/requirements.txt (line 86)) (2023.3)\n",
      "Requirement already satisfied: PyYAML==6.0 in /Users/babreu/opt/anaconda3/envs/entangling/lib/python3.11/site-packages (from -r ../env/requirements.txt (line 87)) (6.0)\n",
      "Requirement already satisfied: pyzmq==25.1.0 in /Users/babreu/opt/anaconda3/envs/entangling/lib/python3.11/site-packages (from -r ../env/requirements.txt (line 88)) (25.1.0)\n",
      "Requirement already satisfied: qiskit==0.43.1 in /Users/babreu/opt/anaconda3/envs/entangling/lib/python3.11/site-packages (from -r ../env/requirements.txt (line 89)) (0.43.1)\n",
      "Requirement already satisfied: qiskit-aer==0.12.0 in /Users/babreu/opt/anaconda3/envs/entangling/lib/python3.11/site-packages (from -r ../env/requirements.txt (line 90)) (0.12.0)\n",
      "Requirement already satisfied: qiskit-ibmq-provider==0.20.2 in /Users/babreu/opt/anaconda3/envs/entangling/lib/python3.11/site-packages (from -r ../env/requirements.txt (line 91)) (0.20.2)\n",
      "Requirement already satisfied: qiskit-terra==0.24.1 in /Users/babreu/opt/anaconda3/envs/entangling/lib/python3.11/site-packages (from -r ../env/requirements.txt (line 92)) (0.24.1)\n",
      "Requirement already satisfied: requests==2.31.0 in /Users/babreu/opt/anaconda3/envs/entangling/lib/python3.11/site-packages (from -r ../env/requirements.txt (line 93)) (2.31.0)\n",
      "Requirement already satisfied: requests-ntlm==1.1.0 in /Users/babreu/opt/anaconda3/envs/entangling/lib/python3.11/site-packages (from -r ../env/requirements.txt (line 94)) (1.1.0)\n",
      "Requirement already satisfied: rfc3339-validator==0.1.4 in /Users/babreu/opt/anaconda3/envs/entangling/lib/python3.11/site-packages (from -r ../env/requirements.txt (line 95)) (0.1.4)\n",
      "Requirement already satisfied: rfc3986-validator==0.1.1 in /Users/babreu/opt/anaconda3/envs/entangling/lib/python3.11/site-packages (from -r ../env/requirements.txt (line 96)) (0.1.1)\n",
      "Requirement already satisfied: rustworkx==0.13.0 in /Users/babreu/opt/anaconda3/envs/entangling/lib/python3.11/site-packages (from -r ../env/requirements.txt (line 97)) (0.13.0)\n",
      "Requirement already satisfied: scipy==1.10.1 in /Users/babreu/opt/anaconda3/envs/entangling/lib/python3.11/site-packages (from -r ../env/requirements.txt (line 98)) (1.10.1)\n",
      "Requirement already satisfied: seaborn==0.12.2 in /Users/babreu/opt/anaconda3/envs/entangling/lib/python3.11/site-packages (from -r ../env/requirements.txt (line 99)) (0.12.2)\n",
      "Requirement already satisfied: Send2Trash==1.8.2 in /Users/babreu/opt/anaconda3/envs/entangling/lib/python3.11/site-packages (from -r ../env/requirements.txt (line 100)) (1.8.2)\n",
      "Requirement already satisfied: six==1.16.0 in /Users/babreu/opt/anaconda3/envs/entangling/lib/python3.11/site-packages (from -r ../env/requirements.txt (line 101)) (1.16.0)\n",
      "Requirement already satisfied: sniffio==1.3.0 in /Users/babreu/opt/anaconda3/envs/entangling/lib/python3.11/site-packages (from -r ../env/requirements.txt (line 102)) (1.3.0)\n",
      "Requirement already satisfied: soupsieve==2.4.1 in /Users/babreu/opt/anaconda3/envs/entangling/lib/python3.11/site-packages (from -r ../env/requirements.txt (line 103)) (2.4.1)\n",
      "Requirement already satisfied: stack-data==0.6.2 in /Users/babreu/opt/anaconda3/envs/entangling/lib/python3.11/site-packages (from -r ../env/requirements.txt (line 104)) (0.6.2)\n",
      "Requirement already satisfied: stevedore==5.1.0 in /Users/babreu/opt/anaconda3/envs/entangling/lib/python3.11/site-packages (from -r ../env/requirements.txt (line 105)) (5.1.0)\n",
      "Requirement already satisfied: symengine==0.9.2 in /Users/babreu/opt/anaconda3/envs/entangling/lib/python3.11/site-packages (from -r ../env/requirements.txt (line 106)) (0.9.2)\n",
      "Requirement already satisfied: sympy==1.12 in /Users/babreu/opt/anaconda3/envs/entangling/lib/python3.11/site-packages (from -r ../env/requirements.txt (line 107)) (1.12)\n",
      "Requirement already satisfied: terminado==0.17.1 in /Users/babreu/opt/anaconda3/envs/entangling/lib/python3.11/site-packages (from -r ../env/requirements.txt (line 108)) (0.17.1)\n",
      "Requirement already satisfied: tinycss2==1.2.1 in /Users/babreu/opt/anaconda3/envs/entangling/lib/python3.11/site-packages (from -r ../env/requirements.txt (line 109)) (1.2.1)\n",
      "Requirement already satisfied: tornado==6.3.2 in /Users/babreu/opt/anaconda3/envs/entangling/lib/python3.11/site-packages (from -r ../env/requirements.txt (line 110)) (6.3.2)\n",
      "Requirement already satisfied: traitlets==5.9.0 in /Users/babreu/opt/anaconda3/envs/entangling/lib/python3.11/site-packages (from -r ../env/requirements.txt (line 111)) (5.9.0)\n",
      "Requirement already satisfied: typing_extensions==4.6.3 in /Users/babreu/opt/anaconda3/envs/entangling/lib/python3.11/site-packages (from -r ../env/requirements.txt (line 112)) (4.6.3)\n",
      "Requirement already satisfied: tzdata==2023.3 in /Users/babreu/opt/anaconda3/envs/entangling/lib/python3.11/site-packages (from -r ../env/requirements.txt (line 113)) (2023.3)\n",
      "Requirement already satisfied: uri-template==1.3.0 in /Users/babreu/opt/anaconda3/envs/entangling/lib/python3.11/site-packages (from -r ../env/requirements.txt (line 114)) (1.3.0)\n",
      "Requirement already satisfied: urllib3==2.0.3 in /Users/babreu/opt/anaconda3/envs/entangling/lib/python3.11/site-packages (from -r ../env/requirements.txt (line 115)) (2.0.3)\n",
      "Requirement already satisfied: wcwidth==0.2.6 in /Users/babreu/opt/anaconda3/envs/entangling/lib/python3.11/site-packages (from -r ../env/requirements.txt (line 116)) (0.2.6)\n",
      "Requirement already satisfied: webcolors==1.13 in /Users/babreu/opt/anaconda3/envs/entangling/lib/python3.11/site-packages (from -r ../env/requirements.txt (line 117)) (1.13)\n",
      "Requirement already satisfied: webencodings==0.5.1 in /Users/babreu/opt/anaconda3/envs/entangling/lib/python3.11/site-packages (from -r ../env/requirements.txt (line 118)) (0.5.1)\n",
      "Requirement already satisfied: websocket-client==1.6.0 in /Users/babreu/opt/anaconda3/envs/entangling/lib/python3.11/site-packages (from -r ../env/requirements.txt (line 119)) (1.6.0)\n",
      "Requirement already satisfied: websockets==11.0.3 in /Users/babreu/opt/anaconda3/envs/entangling/lib/python3.11/site-packages (from -r ../env/requirements.txt (line 120)) (11.0.3)\n",
      "Requirement already satisfied: widgetsnbextension==4.0.7 in /Users/babreu/opt/anaconda3/envs/entangling/lib/python3.11/site-packages (from -r ../env/requirements.txt (line 121)) (4.0.7)\n"
     ]
    }
   ],
   "source": [
    "!pip install -r ../env/requirements.txt"
   ]
  },
  {
   "cell_type": "code",
   "execution_count": 37,
   "id": "2fb63906-0e0a-4372-8407-9bb3e8f10e8d",
   "metadata": {},
   "outputs": [],
   "source": [
    "import sys\n",
    "sys.path.insert(0, '../SHBA')\n",
    "import Experiment as exp\n",
    "\n",
    "from qiskit.circuit import Parameter\n",
    "import qiskit.circuit.library as qcl\n",
    "\n",
    "import numpy as np"
   ]
  },
  {
   "cell_type": "code",
   "execution_count": 38,
   "id": "add5ce01-aa8b-46f5-a3cb-07e980f7086a",
   "metadata": {},
   "outputs": [],
   "source": [
    "theta = Parameter('phase')\n",
    "gate = qcl.CPhaseGate(theta)"
   ]
  },
  {
   "cell_type": "code",
   "execution_count": 44,
   "id": "b960b6e0-88a4-4563-8d05-1a5c88321756",
   "metadata": {},
   "outputs": [
    {
     "name": "stdout",
     "output_type": "stream",
     "text": [
      "\n",
      "\n",
      "Experiment configuration: trial\n",
      "Number of qubits: 4\n",
      "Graph type: linear\n",
      "Gate: Instruction(name='cp', num_qubits=2, num_clbits=0, params=[6.283185307179586])\n",
      "Parameter bounds: [0.0, 6.283185307179586]\n",
      "Number of parameters within bounds: 50\n",
      "Qubit indexes to be traced out: [0, 2]\n",
      "Number of simulation shots: 1024\n",
      "Number of times this configuration was used:  0\n"
     ]
    }
   ],
   "source": [
    "config = exp.ExperimentConfig(\n",
    "    name=\"trial\",\n",
    "    n_qubits=4,\n",
    "    graph_type=\"linear\",\n",
    "    gate=gate,\n",
    "    parameter_bounds=[0.0, 2*np.pi],\n",
    "    n_parameters=50,\n",
    "    traced_qubits=[0,2],\n",
    "    n_shots=1024\n",
    ")\n",
    "\n",
    "config.details()"
   ]
  },
  {
   "cell_type": "code",
   "execution_count": 46,
   "id": "5463f1b7-a8c4-4ea5-ac81-fdf40d68918d",
   "metadata": {},
   "outputs": [],
   "source": [
    "experiment = exp.Experiment(config)"
   ]
  },
  {
   "cell_type": "code",
   "execution_count": 47,
   "id": "f93d9e9e-3064-4313-85cc-2095cdb93ffc",
   "metadata": {},
   "outputs": [],
   "source": [
    "experiment.run()"
   ]
  },
  {
   "cell_type": "code",
   "execution_count": 48,
   "id": "631c4a3d-aac9-46a8-8c6d-539dc3cda4c1",
   "metadata": {},
   "outputs": [
    {
     "data": {
      "image/png": "[encoded data removed]",
      "text/plain": [
       "<Figure size 640x480 with 1 Axes>"
      ]
     },
     "metadata": {},
     "output_type": "display_data"
    }
   ],
   "source": [
    "experiment.plot_result()"
   ]
  },
  {
   "cell_type": "code",
   "execution_count": null,
   "id": "1ec7e55b-0bba-42bd-a6c2-5354793a7f67",
   "metadata": {},
   "outputs": [],
   "source": []
  }
 ],
 "metadata": {
  "kernelspec": {
   "display_name": "Python 3 (ipykernel)",
   "language": "python",
   "name": "python3"
  },
  "language_info": {
   "codemirror_mode": {
    "name": "ipython",
    "version": 3
   },
   "file_extension": ".py",
   "mimetype": "text/x-python",
   "name": "python",
   "nbconvert_exporter": "python",
   "pygments_lexer": "ipython3",
   "version": "3.11.3"
  }
 },
 "nbformat": 4,
 "nbformat_minor": 5
}
