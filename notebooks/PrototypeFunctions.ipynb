{
 "cells": [
  {
   "cell_type": "code",
   "execution_count": 1,
   "id": "9f40e9d2-7f8c-4dca-b75f-32a086cc7ace",
   "metadata": {},
   "outputs": [],
   "source": [
    "# Importing required libraries\n",
    "from qiskit import QuantumCircuit\n",
    "import numpy as np\n",
    "from qiskit.quantum_info import Statevector\n",
    "from qiskit import Aer\n",
    "from qiskit.visualization import plot_histogram\n",
    "import matplotlib.pyplot as plt\n",
    "import networkx as nx\n",
    "from itertools import product"
   ]
  },
  {
   "cell_type": "code",
   "execution_count": 5,
   "id": "c700faf8-92c8-4036-8eb7-33870faaf158",
   "metadata": {},
   "outputs": [],
   "source": [
    "def create_graph(n_nodes, topology):\n",
    "    \"\"\"\n",
    "    Creates a graph using networkx: https://networkx.org/\n",
    "\n",
    "    Arguments\n",
    "        - n_nodes (int): number of nodes in the graph\n",
    "        - topology (srt): graph class\n",
    "    Returns\n",
    "        - graph: the graph object\n",
    "    \"\"\"\n",
    "    import networkx as nx\n",
    "\n",
    "    topologies = [\"linear\", \"star\", \"circular\", \"complete\"]\n",
    "    assert topology in topologies\n",
    "    \n",
    "    G = nx.Graph()\n",
    "\n",
    "    if topology == topologies[0]:\n",
    "        G.add_nodes_from(range(n_nodes))\n",
    "        for i in range(n_nodes - 1):\n",
    "            G.add_edge(i, i+1)\n",
    "        return G\n",
    "    elif topology == topologies[1]:\n",
    "        G.add_node(0)\n",
    "        for i in range(n_nodes - 1):\n",
    "            G.add_edge(0, i+1)\n",
    "        return G\n",
    "    elif topology == topologies[2]:\n",
    "        G.add_nodes_from(range(n_nodes))\n",
    "        for i in range(n_nodes):\n",
    "            G.add_edge(i, (i+1) % n_nodes)\n",
    "        return G\n",
    "    elif topology == topologies[3]:\n",
    "        G = nx.complete_graph(n_nodes)\n",
    "        return G"
   ]
  },
  {
   "cell_type": "code",
   "execution_count": null,
   "id": "61ae5a31-3733-4b02-8948-444f3c63f3e4",
   "metadata": {},
   "outputs": [],
   "source": []
  }
 ],
 "metadata": {
  "kernelspec": {
   "display_name": "Python 3 (ipykernel)",
   "language": "python",
   "name": "python3"
  },
  "language_info": {
   "codemirror_mode": {
    "name": "ipython",
    "version": 3
   },
   "file_extension": ".py",
   "mimetype": "text/x-python",
   "name": "python",
   "nbconvert_exporter": "python",
   "pygments_lexer": "ipython3",
   "version": "3.11.3"
  }
 },
 "nbformat": 4,
 "nbformat_minor": 5
}
