{
 "cells": [
  {
   "cell_type": "code",
   "execution_count": 1,
   "id": "4f10a49e",
   "metadata": {},
   "outputs": [],
   "source": [
    "# Importing required libraries\n",
    "from qiskit import QuantumCircuit\n",
    "import numpy as np\n",
    "from qiskit.quantum_info import Statevector\n",
    "from qiskit import Aer\n",
    "from qiskit.visualization import plot_histogram\n",
    "import matplotlib.pyplot as plt\n",
    "import networkx as nx\n",
    "from itertools import product"
   ]
  },
  {
   "cell_type": "code",
   "execution_count": null,
   "id": "265dbc8a",
   "metadata": {},
   "outputs": [],
   "source": []
  },
  {
   "cell_type": "code",
   "execution_count": 2,
   "id": "f31ebe0f",
   "metadata": {},
   "outputs": [],
   "source": [
    "# Input the size of the linear graph\n",
    "nqubits = 6\n",
    "\n",
    "# Fuction that generates a linear, circular, star and complete graphs. Note that in the case graph_size = 3\n",
    "# the linear graph is the same as the star, and the circular graph is the same as the complete graph.\n",
    "\n",
    "def generate_linear_graph(graph_size):\n",
    "    \n",
    "    graphlin = nx.Graph()\n",
    "    graphlin.add_nodes_from(range(graph_size))\n",
    "\n",
    "    graphcirc = nx.Graph()\n",
    "    graphcirc.add_nodes_from(range(graph_size))\n",
    "\n",
    "    graphstar = nx.Graph()\n",
    "    graphstar.add_node(0)\n",
    "\n",
    "    graphcomp = nx.complete_graph(graph_size)\n",
    "\n",
    "    for i in range(graph_size - 1):\n",
    "        graphlin.add_edge(i, i+1)\n",
    "        graphstar.add_edge(0, i+1)\n",
    "\n",
    "    for i in range(graph_size):\n",
    "        graphcirc.add_edge(i, (i+1) % graph_size)\n",
    "\n",
    "    return graphlin, graphcirc, graphstar, graphcomp\n",
    "\n",
    "# Generates the graphs and saves them in the 4 variables\n",
    "\n",
    "glin, gcirc, gstar, gcomp = generate_linear_graph(nqubits)"
   ]
  },
  {
   "cell_type": "code",
   "execution_count": null,
   "id": "50a969fc",
   "metadata": {},
   "outputs": [],
   "source": []
  },
  {
   "cell_type": "code",
   "execution_count": 3,
   "id": "8bb4c092",
   "metadata": {},
   "outputs": [
    {
     "data": {
      "image/png": "[encoded data removed]",
      "text/plain": [
       "<Figure size 640x480 with 1 Axes>"
      ]
     },
     "metadata": {},
     "output_type": "display_data"
    }
   ],
   "source": [
    "#nx.draw(glin, {node: (node, 0) for node in glin.nodes()}, with_labels=True, node_color=\"darkblue\", edge_color=\"gray\", node_size=1000, font_size=20, font_color=\"white\", font_weight='bold')\n",
    "#nx.draw(gcirc, with_labels=True, node_color=\"darkblue\", edge_color=\"gray\", node_size=1000, font_size=20, font_color=\"white\", font_weight='bold')"
   ]
  },
  {
   "cell_type": "code",
   "execution_count": null,
   "id": "ee7d1614",
   "metadata": {},
   "outputs": [],
   "source": []
  },
  {
   "cell_type": "code",
   "execution_count": 3,
   "id": "7a6bca84",
   "metadata": {},
   "outputs": [],
   "source": [
    "# Generates a list of circuits of with nq control qubits and 2 copies of a Uniformly Weighted Graph State from a range of phis\n",
    " \n",
    "def circ_gen(phi, G):\n",
    "    \n",
    "    qc = QuantumCircuit(3*G.number_of_nodes(), G.number_of_nodes())\n",
    "    \n",
    "    ############### Graph States ##############\n",
    "\n",
    "    # Apply Hadamard gates to all qubits\n",
    "    for i in range(3*G.number_of_nodes()):\n",
    "        qc.h(i)\n",
    "\n",
    "    # Apply Controlled-Z gates based on the graph edges\n",
    "    for edge in G.edges:\n",
    "        qc.cp(phi, edge[0]+G.number_of_nodes(), edge[1]+G.number_of_nodes())\n",
    "\n",
    "    for edge in G.edges:\n",
    "        qc.cp(phi, edge[0]+2*G.number_of_nodes(), edge[1]+2*G.number_of_nodes())\n",
    "        \n",
    "    ###########################################\n",
    "\n",
    "    qc.barrier()\n",
    "    \n",
    "    ############ Applying CSWAPS ##############\n",
    "\n",
    "    for i in range(G.number_of_nodes()):\n",
    "\n",
    "        qc.cswap(i, i+G.number_of_nodes(), i+2*G.number_of_nodes())\n",
    "        \n",
    "    ###########################################\n",
    "\n",
    "    qc.barrier()\n",
    "    \n",
    "    ######### Making the CSWAP Test ###########\n",
    "\n",
    "    for i in range(G.number_of_nodes()):\n",
    "\n",
    "        qc.h(i)\n",
    "\n",
    "        qc.measure(i, i)\n",
    "        \n",
    "    return qc\n",
    "\n",
    "#circ_gen(np.pi, gcirc).draw('mpl')"
   ]
  },
  {
   "cell_type": "code",
   "execution_count": null,
   "id": "cda48875",
   "metadata": {},
   "outputs": [],
   "source": []
  },
  {
   "cell_type": "code",
   "execution_count": 23,
   "id": "4d394801",
   "metadata": {},
   "outputs": [],
   "source": [
    "# Generate an array of angles using np.linspace\n",
    "angles = np.linspace(0, 2*np.pi, 1000)\n",
    "#angles = np.array([np.pi])\n",
    "\n",
    "# Generate circuits for all angles\n",
    "circuits = [circ_gen(angle, gcomp) for angle in angles]"
   ]
  },
  {
   "cell_type": "code",
   "execution_count": null,
   "id": "9016c858",
   "metadata": {},
   "outputs": [],
   "source": []
  },
  {
   "cell_type": "code",
   "execution_count": 24,
   "id": "01365d9a",
   "metadata": {},
   "outputs": [],
   "source": [
    "#circuits[500].draw('mpl')"
   ]
  },
  {
   "cell_type": "code",
   "execution_count": null,
   "id": "ac29bdb2",
   "metadata": {},
   "outputs": [],
   "source": []
  },
  {
   "cell_type": "code",
   "execution_count": 25,
   "id": "59ef6efc",
   "metadata": {},
   "outputs": [
    {
     "name": "stdout",
     "output_type": "stream",
     "text": [
      "['000000']\n"
     ]
    }
   ],
   "source": [
    "# Generates all bitstrings of a certain length n\n",
    "def generate_bitstrings(n):\n",
    "    bitstrings = []\n",
    "    for bits in product('01', repeat=n):\n",
    "        bitstring = ''.join(bits)\n",
    "        bitstrings.append(bitstring)\n",
    "    return bitstrings\n",
    "\n",
    "# Filters all bitstrings with '0' in positions determined by a list such as [1, 2, 3]\n",
    "\n",
    "def filter_bitstrings(bitstrings, positions):\n",
    "    filtered_bitstrings = []\n",
    "    max_position = max(positions)\n",
    "    for bitstring in bitstrings:\n",
    "        if len(bitstring) > max_position and all(bitstring[pos] == '0' for pos in positions):\n",
    "            filtered_bitstrings.append(bitstring)\n",
    "    return filtered_bitstrings\n",
    "\n",
    "bitstrings = generate_bitstrings(nqubits)\n",
    "#positions = [0, 1, 2, 3]\n",
    "positions = range(nqubits)\n",
    "filtered_bitstrings = filter_bitstrings(bitstrings, positions)\n",
    "print(filtered_bitstrings)"
   ]
  },
  {
   "cell_type": "code",
   "execution_count": null,
   "id": "4a584ad0",
   "metadata": {},
   "outputs": [],
   "source": []
  },
  {
   "cell_type": "code",
   "execution_count": 26,
   "id": "97a227b5",
   "metadata": {},
   "outputs": [],
   "source": [
    "def conc_ent(circs, fstrings):\n",
    "           \n",
    "    sim = Aer.get_backend('aer_simulator')\n",
    "    \n",
    "    nshots=10000\n",
    "    \n",
    "    concentrable_entanglements = []\n",
    "    \n",
    "    for circuit in circs:\n",
    "    \n",
    "        job = sim.run(circuit, shots=nshots)\n",
    "        \n",
    "        aux = 0\n",
    "        \n",
    "        for string in fstrings:\n",
    "            \n",
    "            try:\n",
    "                \n",
    "                aux+=job.result().get_counts()[string]/nshots\n",
    "                \n",
    "            except:\n",
    "                \n",
    "                aux+=0\n",
    "            \n",
    "        concentrable_entanglements.append(1-aux)\n",
    "            \n",
    "    return concentrable_entanglements"
   ]
  },
  {
   "cell_type": "code",
   "execution_count": null,
   "id": "f4d7623f",
   "metadata": {},
   "outputs": [],
   "source": []
  },
  {
   "cell_type": "code",
   "execution_count": 27,
   "id": "d545796d",
   "metadata": {},
   "outputs": [],
   "source": [
    "ce = conc_ent(circuits, filtered_bitstrings)"
   ]
  },
  {
   "cell_type": "code",
   "execution_count": null,
   "id": "0a73be77",
   "metadata": {},
   "outputs": [],
   "source": []
  },
  {
   "cell_type": "code",
   "execution_count": 28,
   "id": "6315a586",
   "metadata": {},
   "outputs": [
    {
     "data": {
      "image/png": "[encoded data removed]",
      "text/plain": [
       "<Figure size 640x480 with 1 Axes>"
      ]
     },
     "metadata": {},
     "output_type": "display_data"
    }
   ],
   "source": [
    "plt.plot(angles, ce, label=r'$\\mathcal{C}_{\\left|UWGS\\right\\rangle}$')\n",
    "if len(positions) == nqubits:\n",
    "    plt.axhline(1/2-1/2**nqubits, color='red', linestyle='--', label=r'$\\mathcal{C}_{\\left|GHZ\\right\\rangle}=\\frac{1}{2}-\\frac{1}{2^n}$')\n",
    "plt.xlabel(r'$\\phi$')\n",
    "position_labels = [f'{pos}' for pos in positions]\n",
    "plt.ylabel(r'$\\mathcal{C}_{\\left|UWGS\\right\\rangle}$(s='+str(position_labels)+')')\n",
    "plt.title('Concentratable Entanglement')\n",
    "plt.legend(loc='upper right')\n",
    "plt.grid(True)"
   ]
  },
  {
   "cell_type": "code",
   "execution_count": null,
   "id": "c05f7b88",
   "metadata": {},
   "outputs": [],
   "source": []
  },
  {
   "cell_type": "code",
   "execution_count": null,
   "id": "7264603a",
   "metadata": {},
   "outputs": [],
   "source": []
  }
 ],
 "metadata": {
  "kernelspec": {
   "display_name": "Python 3 (ipykernel)",
   "language": "python",
   "name": "python3"
  },
  "language_info": {
   "codemirror_mode": {
    "name": "ipython",
    "version": 3
   },
   "file_extension": ".py",
   "mimetype": "text/x-python",
   "name": "python",
   "nbconvert_exporter": "python",
   "pygments_lexer": "ipython3",
   "version": "3.8.16"
  }
 },
 "nbformat": 4,
 "nbformat_minor": 5
}
